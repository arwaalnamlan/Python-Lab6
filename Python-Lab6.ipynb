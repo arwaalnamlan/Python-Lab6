{
 "cells": [
  {
   "cell_type": "markdown",
   "id": "d255e6d0",
   "metadata": {},
   "source": [
    "# Python-Lab6"
   ]
  },
  {
   "cell_type": "code",
   "execution_count": 1,
   "id": "d8696e0d",
   "metadata": {},
   "outputs": [],
   "source": [
    "phoneBook = {\n",
    "    1 :[\"Amal\", 1111111111],\n",
    "    2 :[\"Mohammed\", 2222222222],\n",
    "    3 :[\"Khadijah\", 3333333333],\n",
    "    4 :[\"Abdullah\", 4444444444],\n",
    "    5 :[\"Rawan\", 5555555555],\n",
    "    6 :[\"Faisal\", 6666666666],\n",
    "    7 :[\"Layla\", 7777777777],\n",
    "}"
   ]
  },
  {
   "cell_type": "code",
   "execution_count": 2,
   "id": "970564cd",
   "metadata": {},
   "outputs": [
    {
     "name": "stdout",
     "output_type": "stream",
     "text": [
      "Enter the phone number 4444444444\n",
      "This number for Abdullah\n"
     ]
    }
   ],
   "source": [
    "try:\n",
    "    phoneNo = int(input(\"Enter the phone number \"))\n",
    "    if len(str(phoneNo)) == 10:\n",
    "        \n",
    "        for i in phoneBook:\n",
    "            \n",
    "            if int(phoneNo) == phoneBook[i][1]: # If the number exists.\n",
    "                value = \"This number for \" + phoneBook[i][0]\n",
    "                break    \n",
    "            else: # If the number not exists\n",
    "                value = \"Sorry, the number is not found\"  \n",
    "                \n",
    "        print(value)  \n",
    "        \n",
    "    else: # If the number is less or more than 10 numbers\n",
    "        print(\"This is invalid number\")\n",
    "\n",
    "except ValueError: #If the number contains letters or symbols\n",
    "    print (\"This is invalid number\")"
   ]
  },
  {
   "cell_type": "code",
   "execution_count": null,
   "id": "57105a5c",
   "metadata": {},
   "outputs": [],
   "source": []
  }
 ],
 "metadata": {
  "kernelspec": {
   "display_name": "Python 3 (ipykernel)",
   "language": "python",
   "name": "python3"
  },
  "language_info": {
   "codemirror_mode": {
    "name": "ipython",
    "version": 3
   },
   "file_extension": ".py",
   "mimetype": "text/x-python",
   "name": "python",
   "nbconvert_exporter": "python",
   "pygments_lexer": "ipython3",
   "version": "3.9.12"
  }
 },
 "nbformat": 4,
 "nbformat_minor": 5
}
